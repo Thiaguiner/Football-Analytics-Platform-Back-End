{
 "cells": [
  {
   "cell_type": "code",
   "execution_count": null,
   "id": "2a8ef4f1",
   "metadata": {},
   "outputs": [
    {
     "data": {
      "text/html": [
       "<div><style>\n",
       ".dataframe > thead > tr > th,\n",
       ".dataframe > tbody > tr > td {\n",
       "  text-align: right;\n",
       "}\n",
       "</style>\n",
       "<small>shape: (20, 11)</small><table border=\"1\" class=\"dataframe\"><thead><tr><th>season</th><th>place</th><th>acronym</th><th>team</th><th>points</th><th>played</th><th>won</th><th>draw</th><th>loss</th><th>goalsht</th><th>goalsvt</th></tr><tr><td>i64</td><td>i64</td><td>str</td><td>str</td><td>i64</td><td>i64</td><td>i64</td><td>i64</td><td>i64</td><td>i64</td><td>i64</td></tr></thead><tbody><tr><td>2022</td><td>1</td><td>&quot;PAL&quot;</td><td>&quot;Palmeiras&quot;</td><td>81</td><td>38</td><td>23</td><td>12</td><td>3</td><td>66</td><td>27</td></tr><tr><td>2022</td><td>2</td><td>&quot;INT&quot;</td><td>&quot;Internacional&quot;</td><td>73</td><td>38</td><td>20</td><td>13</td><td>5</td><td>58</td><td>18</td></tr><tr><td>2022</td><td>3</td><td>&quot;FLU&quot;</td><td>&quot;Fluminense&quot;</td><td>70</td><td>38</td><td>21</td><td>7</td><td>10</td><td>63</td><td>24</td></tr><tr><td>2022</td><td>4</td><td>&quot;COR&quot;</td><td>&quot;Corinthians&quot;</td><td>65</td><td>38</td><td>18</td><td>11</td><td>9</td><td>44</td><td>20</td></tr><tr><td>2022</td><td>5</td><td>&quot;FLA&quot;</td><td>&quot;Flamengo&quot;</td><td>62</td><td>38</td><td>18</td><td>8</td><td>12</td><td>60</td><td>23</td></tr><tr><td>2022</td><td>6</td><td>&quot;CAP&quot;</td><td>&quot;Athletico-PR&quot;</td><td>58</td><td>38</td><td>16</td><td>10</td><td>12</td><td>48</td><td>17</td></tr><tr><td>2022</td><td>7</td><td>&quot;CAM&quot;</td><td>&quot;Atlético-MG&quot;</td><td>58</td><td>38</td><td>15</td><td>13</td><td>10</td><td>45</td><td>20</td></tr><tr><td>2022</td><td>8</td><td>&quot;FOR&quot;</td><td>&quot;Fortaleza&quot;</td><td>55</td><td>38</td><td>15</td><td>10</td><td>13</td><td>46</td><td>22</td></tr><tr><td>2022</td><td>9</td><td>&quot;SAO&quot;</td><td>&quot;São Paulo&quot;</td><td>54</td><td>38</td><td>13</td><td>15</td><td>10</td><td>55</td><td>23</td></tr><tr><td>2022</td><td>10</td><td>&quot;AMG&quot;</td><td>&quot;América-MG&quot;</td><td>53</td><td>38</td><td>15</td><td>8</td><td>15</td><td>40</td><td>18</td></tr><tr><td>2022</td><td>11</td><td>&quot;BOT&quot;</td><td>&quot;Botafogo&quot;</td><td>53</td><td>38</td><td>15</td><td>8</td><td>15</td><td>41</td><td>23</td></tr><tr><td>2022</td><td>12</td><td>&quot;SAN&quot;</td><td>&quot;Santos&quot;</td><td>47</td><td>38</td><td>12</td><td>11</td><td>15</td><td>44</td><td>16</td></tr><tr><td>2022</td><td>13</td><td>&quot;GOI&quot;</td><td>&quot;Goiás&quot;</td><td>46</td><td>38</td><td>11</td><td>13</td><td>14</td><td>40</td><td>20</td></tr><tr><td>2022</td><td>14</td><td>&quot;RBB&quot;</td><td>&quot;Bragantino&quot;</td><td>44</td><td>38</td><td>11</td><td>11</td><td>16</td><td>49</td><td>20</td></tr><tr><td>2022</td><td>15</td><td>&quot;CFC&quot;</td><td>&quot;Coritiba&quot;</td><td>42</td><td>38</td><td>12</td><td>6</td><td>20</td><td>39</td><td>14</td></tr><tr><td>2022</td><td>16</td><td>&quot;CUI&quot;</td><td>&quot;Cuiabá&quot;</td><td>41</td><td>38</td><td>10</td><td>11</td><td>17</td><td>31</td><td>14</td></tr><tr><td>2022</td><td>17</td><td>&quot;CEA&quot;</td><td>&quot;Ceará&quot;</td><td>37</td><td>38</td><td>7</td><td>16</td><td>15</td><td>34</td><td>14</td></tr><tr><td>2022</td><td>18</td><td>&quot;ACG&quot;</td><td>&quot;Atlético-GO&quot;</td><td>36</td><td>38</td><td>8</td><td>12</td><td>18</td><td>39</td><td>17</td></tr><tr><td>2022</td><td>19</td><td>&quot;AVA&quot;</td><td>&quot;Avaí&quot;</td><td>35</td><td>38</td><td>9</td><td>8</td><td>21</td><td>34</td><td>10</td></tr><tr><td>2022</td><td>20</td><td>&quot;JUV&quot;</td><td>&quot;Juventude&quot;</td><td>22</td><td>38</td><td>3</td><td>13</td><td>22</td><td>29</td><td>11</td></tr></tbody></table></div>"
      ],
      "text/plain": [
       "shape: (20, 11)\n",
       "┌────────┬───────┬─────────┬───────────────┬───┬──────┬──────┬─────────┬─────────┐\n",
       "│ season ┆ place ┆ acronym ┆ team          ┆ … ┆ draw ┆ loss ┆ goalsht ┆ goalsvt │\n",
       "│ ---    ┆ ---   ┆ ---     ┆ ---           ┆   ┆ ---  ┆ ---  ┆ ---     ┆ ---     │\n",
       "│ i64    ┆ i64   ┆ str     ┆ str           ┆   ┆ i64  ┆ i64  ┆ i64     ┆ i64     │\n",
       "╞════════╪═══════╪═════════╪═══════════════╪═══╪══════╪══════╪═════════╪═════════╡\n",
       "│ 2022   ┆ 1     ┆ PAL     ┆ Palmeiras     ┆ … ┆ 12   ┆ 3    ┆ 66      ┆ 27      │\n",
       "│ 2022   ┆ 2     ┆ INT     ┆ Internacional ┆ … ┆ 13   ┆ 5    ┆ 58      ┆ 18      │\n",
       "│ 2022   ┆ 3     ┆ FLU     ┆ Fluminense    ┆ … ┆ 7    ┆ 10   ┆ 63      ┆ 24      │\n",
       "│ 2022   ┆ 4     ┆ COR     ┆ Corinthians   ┆ … ┆ 11   ┆ 9    ┆ 44      ┆ 20      │\n",
       "│ …      ┆ …     ┆ …       ┆ …             ┆ … ┆ …    ┆ …    ┆ …       ┆ …       │\n",
       "│ 2022   ┆ 17    ┆ CEA     ┆ Ceará         ┆ … ┆ 16   ┆ 15   ┆ 34      ┆ 14      │\n",
       "│ 2022   ┆ 18    ┆ ACG     ┆ Atlético-GO   ┆ … ┆ 12   ┆ 18   ┆ 39      ┆ 17      │\n",
       "│ 2022   ┆ 19    ┆ AVA     ┆ Avaí          ┆ … ┆ 8    ┆ 21   ┆ 34      ┆ 10      │\n",
       "│ 2022   ┆ 20    ┆ JUV     ┆ Juventude     ┆ … ┆ 13   ┆ 22   ┆ 29      ┆ 11      │\n",
       "└────────┴───────┴─────────┴───────────────┴───┴──────┴──────┴─────────┴─────────┘"
      ]
     },
     "execution_count": 48,
     "metadata": {},
     "output_type": "execute_result"
    }
   ],
   "source": [
    "import polars as pl\n",
    "\n",
    "df_brasileirao = pl.read_parquet(fr'C:\\Users\\Thiago_SL\\projeto-backend\\Football-Analytics-Platform-Back-End\\brasileirao.parquet')\n",
    "\n",
    "df_campbras = pl.read_parquet(fr'C:\\Users\\Thiago_SL\\projeto-backend\\Football-Analytics-Platform-Back-End\\campbras.parquet')\n",
    "\n",
    "df_campbras\n",
    "\n",
    "df_brasileirao = df_brasileirao.with_columns(pl.when(pl.col(\"team\") == 'SaoPaulo').then(\"São Paulo\").when(pl.col(\"team\") == \"Atletico-MG\").then(\"Atlético-MG\").when(pl.col(\"team\") == \"America-MG\").then(\"América-MG\").when(pl.col(\"team\") == 'Goias').then(\"Goiás\").when(pl.col(\"team\") == 'RBBragantino').then(\"Bragantino\").when(pl.col(\"team\") == 'Cuiaba').then('Cuiabá').when(pl.col(\"team\") == 'Ceara').then('Ceará').when(pl.col(\"team\") == \"Atletico-GO\").then(\"Atlético-GO\").when(pl.col(\"team\") == \"Avai\").then(\"Avaí\").otherwise(pl.col(\"team\")).alias(\"team\"))\n",
    "df_brasileirao_tabela = df_brasileirao.filter(pl.col(\"season\") == 2022)\n",
    "\n",
    "df_filtrado = df_campbras.filter(pl.col(\"year\") == 2022)\n",
    "# print(df_filtrado)\n",
    "\n",
    "gols_mandante = (df_filtrado.groupby(\"hometeam\").agg(pl.col(\"goalsht\").sum().alias(\"goalsht\")).rename({\"hometeam\":\"team\"}))            \n",
    "\n",
    "goals_visitantes = (df_filtrado.groupby(\"visitingteam\").agg(pl.col(\"goalsvt\").sum().alias(\"goalsvt\")).rename({\"visitingteam\":\"team\"}))  \n",
    "\n",
    "gols_totais = (gols_mandante.join(goals_visitantes, on=\"team\", how=\"outer\").fill_null(0).with_columns(pl.col(\"goalsht\") + pl.col(\"goalsvt\")))\n",
    "\n",
    "df_brasileirao_tabela = df_brasileirao_tabela.join(gols_totais, on=\"team\", how=\"left\")   \n",
    "df_brasileirao_tabela\n",
    "# df_campbras.filter(pl.col(\"year\")==2022)"
   ]
  }
 ],
 "metadata": {
  "kernelspec": {
   "display_name": "venv (3.10.11)",
   "language": "python",
   "name": "python3"
  },
  "language_info": {
   "codemirror_mode": {
    "name": "ipython",
    "version": 3
   },
   "file_extension": ".py",
   "mimetype": "text/x-python",
   "name": "python",
   "nbconvert_exporter": "python",
   "pygments_lexer": "ipython3",
   "version": "3.10.11"
  }
 },
 "nbformat": 4,
 "nbformat_minor": 5
}
